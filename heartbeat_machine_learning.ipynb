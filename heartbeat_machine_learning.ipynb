{
 "cells": [
  {
   "cell_type": "markdown",
   "id": "7262df33",
   "metadata": {},
   "source": [
    "<h1>Heartbeat Analysis With Machine Learning</h1>\n",
    "Author: Syed Mahdi"
   ]
  },
  {
   "cell_type": "code",
   "execution_count": null,
   "id": "924137fe",
   "metadata": {},
   "outputs": [],
   "source": [
    "import os\n",
    "import pandas as pd\n",
    "import tensorflow as tf\n",
    "import keras\n",
    "import matplotlib.pyplot as plt\n",
    "import numpy as np"
   ]
  },
  {
   "cell_type": "markdown",
   "id": "993e2501",
   "metadata": {},
   "source": [
    "<h2>Exploring Our Dataset</h2>"
   ]
  },
  {
   "cell_type": "code",
   "execution_count": null,
   "id": "383f4a30",
   "metadata": {},
   "outputs": [],
   "source": [
    "path = \"./heartbeat_dataset\"  # Path to our dataset"
   ]
  },
  {
   "cell_type": "code",
   "execution_count": null,
   "id": "560c920c",
   "metadata": {},
   "outputs": [],
   "source": [
    "set_a = pd.read_csv(path + \"/set_a.csv\")\n",
    "print(f\"Unique labels: {set_a['label'].unique()}\")\n",
    "set_a"
   ]
  },
  {
   "cell_type": "code",
   "execution_count": null,
   "id": "342840be",
   "metadata": {},
   "outputs": [],
   "source": [
    "set_a_timing = pd.read_csv(path + \"/set_a_timing.csv\")\n",
    "set_a_timing"
   ]
  },
  {
   "cell_type": "code",
   "execution_count": null,
   "id": "4658c715",
   "metadata": {},
   "outputs": [],
   "source": [
    "set_b = pd.read_csv(path + \"/set_b.csv\")\n",
    "print(f\"Unique labels: {set_b['label'].unique()}\")\n",
    "set_b"
   ]
  },
  {
   "cell_type": "code",
   "execution_count": null,
   "id": "4053e988",
   "metadata": {},
   "outputs": [],
   "source": [
    "combined_dataset = pd.concat([set_a, set_b])\n",
    "print(f\"Unique labels: {combined_dataset['label'].unique()}\")\n",
    "combined_dataset"
   ]
  },
  {
   "cell_type": "code",
   "execution_count": null,
   "id": "68ba076d",
   "metadata": {},
   "outputs": [],
   "source": [
    "# Determine what the shortest, longest, and average durations of our wav files are\n",
    "def analyze_wav_durations(directory):\n",
    "    shortest_duration = float('inf')\n",
    "    longest_duration = 0\n",
    "    total_duration = 0\n",
    "    file_count = 0\n",
    "\n",
    "    # Iterate over each file in the directory\n",
    "    for filename in os.listdir(directory):\n",
    "        if filename.endswith('.wav'):\n",
    "            file_path = os.path.join(directory, filename)\n",
    "            with wave.open(file_path, 'r') as wav_file:\n",
    "                frames = wav_file.getnframes()\n",
    "                rate = wav_file.getframerate()\n",
    "                duration = frames / float(rate)\n",
    "\n",
    "                # Update the shortest, longest, and total durations\n",
    "                if duration < shortest_duration:\n",
    "                    shortest_duration = duration\n",
    "                if duration > longest_duration:\n",
    "                    longest_duration = duration\n",
    "                total_duration += duration\n",
    "                file_count += 1\n",
    "\n",
    "    # Calculate the average duration\n",
    "    average_duration = total_duration / file_count if file_count > 0 else 0\n",
    "\n",
    "    return shortest_duration, longest_duration, average_duration\n",
    "\n",
    "set_a_shortest, set_a_longest, set_a_average = analyze_wav_durations(path + '/set_a')\n",
    "set_b_shortest, set_b_longest, set_b_average = analyze_wav_durations(path + '/set_b')\n",
    "\n",
    "print(f\"Shortest duration: {set_a_shortest if set_a_shortest < set_b_shortest else set_b_shortest}\")\n",
    "print(f\"Longest duration: {set_a_longest if set_a_longest > set_b_longest else set_b_longest}\")\n",
    "print(f\"Average duration: {(set_a_average + set_b_average) / 2}\")"
   ]
  },
  {
   "cell_type": "markdown",
   "id": "ba2c8473",
   "metadata": {},
   "source": [
    "<h2>Waveforms of Different Heartbeat Categories</h2>"
   ]
  },
  {
   "cell_type": "code",
   "execution_count": null,
   "id": "a057969e",
   "metadata": {},
   "outputs": [],
   "source": [
    "# Function to plot the waveform of a given file\n",
    "from scipy.io.wavfile import read\n",
    "\n",
    "def plot_waveform_for_file(file_path):\n",
    "    # Source: https://www.tutorialspoint.com/how-to-plot-a-wav-file-using-matplotlib\n",
    "    input_data = read(file_path)\n",
    "    audio = input_data[1]\n",
    "    plt.plot(audio)\n",
    "    plt.ylabel(\"Amplitude\")\n",
    "    plt.xlabel(\"Time\")\n",
    "    plt.show()"
   ]
  },
  {
   "cell_type": "code",
   "execution_count": null,
   "id": "e8af5d8d",
   "metadata": {},
   "outputs": [],
   "source": [
    "# We can see the waveform for a normal heartbeat has distinct patterns for the \"lub-dub\" the heart makes\n",
    "normal_heartbeat_path = path + \"/set_a/normal__201101070538.wav\"\n",
    "plot_waveform_for_file(normal_heartbeat_path)"
   ]
  },
  {
   "cell_type": "code",
   "execution_count": null,
   "id": "74469cae",
   "metadata": {},
   "outputs": [],
   "source": [
    "# We can see heartbeat murmurs begin to lose this distinct \"lub-dub\" pattern\n",
    "murmur_heartbeat_path = path + \"/set_a/murmur__201106141148.wav\"\n",
    "plot_waveform_for_file(murmur_heartbeat_path)"
   ]
  },
  {
   "cell_type": "code",
   "execution_count": null,
   "id": "9d81c1b0",
   "metadata": {},
   "outputs": [],
   "source": [
    "# Extrasystole heartbeats are out of rythm, and can result in \"lub-dub-dub\" or \"lub-lub-dub\" heartbeats\n",
    "extrasystole_heartbeat_path = path + \"/set_b/extrastole__144_1306522408528_B.wav\"\n",
    "plot_waveform_for_file(extrastole_heartbeat_path)"
   ]
  },
  {
   "cell_type": "code",
   "execution_count": null,
   "id": "ac488f39",
   "metadata": {},
   "outputs": [],
   "source": [
    "# Artifacts are when there aren't heartbeat sounds and needs to be\n",
    "# identified so we can know when to attempt classification again\n",
    "artifact_heartbeat_path = path + \"/set_a/artifact__201106101314.wav\"\n",
    "plot_waveform_for_file(artifact_heartbeat_path)"
   ]
  },
  {
   "cell_type": "code",
   "execution_count": null,
   "id": "f3e8c464",
   "metadata": {},
   "outputs": [],
   "source": [
    "# The extrahls label indicates there are additional sounds with the heartbeat\n",
    "extra_heart_sound_path = path + \"/set_a/extrahls__201103150114.wav\"\n",
    "plot_waveform_for_file(extra_heart_sound_path)"
   ]
  },
  {
   "cell_type": "markdown",
   "id": "a6656e5f",
   "metadata": {},
   "source": [
    "<h2>Audio Data Preprocessing</h2>"
   ]
  },
  {
   "cell_type": "code",
   "execution_count": null,
   "id": "d25bed2a",
   "metadata": {},
   "outputs": [],
   "source": []
  }
 ],
 "metadata": {
  "kernelspec": {
   "display_name": "Python 3 (ipykernel)",
   "language": "python",
   "name": "python3"
  },
  "language_info": {
   "codemirror_mode": {
    "name": "ipython",
    "version": 3
   },
   "file_extension": ".py",
   "mimetype": "text/x-python",
   "name": "python",
   "nbconvert_exporter": "python",
   "pygments_lexer": "ipython3",
   "version": "3.11.4"
  }
 },
 "nbformat": 4,
 "nbformat_minor": 5
}
